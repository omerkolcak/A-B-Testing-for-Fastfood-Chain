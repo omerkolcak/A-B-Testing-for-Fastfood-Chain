{
 "cells": [
  {
   "cell_type": "code",
   "execution_count": 1,
   "metadata": {},
   "outputs": [],
   "source": [
    "import pandas as pd\n",
    "import numpy as np\n",
    "import seaborn as sns\n",
    "import matplotlib.pyplot as plt\n",
    "\n",
    "from scipy import stats"
   ]
  },
  {
   "cell_type": "markdown",
   "metadata": {},
   "source": [
    "<b> Scenario: </b> A fast-food chain plans to add a new item to its menu. However, they are still undecided between three possible marketing campaigns for promoting the new product. In order to determine which promotion has the greatest effect on sales, the new item is introduced at locations in several randomly selected markets. A different promotion is used at each location, and the weekly sales of the new item are recorded for the first four weeks.\n",
    "\n",
    "<b> Goal: </b> Evaluate A/B testing results and decide which marketing strategy works the best.\n",
    "\n",
    "<b> Features of the dataset: </b>\n",
    "\n",
    "- <b> MarketID: </b> unique identifier for market\n",
    "- <b> MarketSize: </b> size of market area by sales\n",
    "- <b> LocationID: </b> unique identifier for store location\n",
    "- <b> AgeOfStore: </b> age of store in years\n",
    "- <b> Promotion: </b> one of three promotions that were tested\n",
    "- <b> week: </b> one of four weeks when the promotions were run\n",
    "- <b> SalesInThousands: </b> sales amount for a specific LocationID, Promotion, and week "
   ]
  },
  {
   "cell_type": "markdown",
   "metadata": {},
   "source": [
    "<h2> Exploratory Data Analysis </h2>"
   ]
  },
  {
   "cell_type": "code",
   "execution_count": 2,
   "metadata": {},
   "outputs": [
    {
     "data": {
      "text/plain": [
       "(548, 7)"
      ]
     },
     "execution_count": 2,
     "metadata": {},
     "output_type": "execute_result"
    }
   ],
   "source": [
    "df = pd.read_csv(\"WA_Marketing-Campaign.csv\")\n",
    "df.shape"
   ]
  },
  {
   "cell_type": "code",
   "execution_count": 3,
   "metadata": {},
   "outputs": [
    {
     "data": {
      "text/html": [
       "<div>\n",
       "<style scoped>\n",
       "    .dataframe tbody tr th:only-of-type {\n",
       "        vertical-align: middle;\n",
       "    }\n",
       "\n",
       "    .dataframe tbody tr th {\n",
       "        vertical-align: top;\n",
       "    }\n",
       "\n",
       "    .dataframe thead th {\n",
       "        text-align: right;\n",
       "    }\n",
       "</style>\n",
       "<table border=\"1\" class=\"dataframe\">\n",
       "  <thead>\n",
       "    <tr style=\"text-align: right;\">\n",
       "      <th></th>\n",
       "      <th>MarketID</th>\n",
       "      <th>MarketSize</th>\n",
       "      <th>LocationID</th>\n",
       "      <th>AgeOfStore</th>\n",
       "      <th>Promotion</th>\n",
       "      <th>week</th>\n",
       "      <th>SalesInThousands</th>\n",
       "    </tr>\n",
       "  </thead>\n",
       "  <tbody>\n",
       "    <tr>\n",
       "      <th>0</th>\n",
       "      <td>1</td>\n",
       "      <td>Medium</td>\n",
       "      <td>1</td>\n",
       "      <td>4</td>\n",
       "      <td>3</td>\n",
       "      <td>1</td>\n",
       "      <td>33.73</td>\n",
       "    </tr>\n",
       "    <tr>\n",
       "      <th>1</th>\n",
       "      <td>1</td>\n",
       "      <td>Medium</td>\n",
       "      <td>1</td>\n",
       "      <td>4</td>\n",
       "      <td>3</td>\n",
       "      <td>2</td>\n",
       "      <td>35.67</td>\n",
       "    </tr>\n",
       "    <tr>\n",
       "      <th>2</th>\n",
       "      <td>1</td>\n",
       "      <td>Medium</td>\n",
       "      <td>1</td>\n",
       "      <td>4</td>\n",
       "      <td>3</td>\n",
       "      <td>3</td>\n",
       "      <td>29.03</td>\n",
       "    </tr>\n",
       "    <tr>\n",
       "      <th>3</th>\n",
       "      <td>1</td>\n",
       "      <td>Medium</td>\n",
       "      <td>1</td>\n",
       "      <td>4</td>\n",
       "      <td>3</td>\n",
       "      <td>4</td>\n",
       "      <td>39.25</td>\n",
       "    </tr>\n",
       "    <tr>\n",
       "      <th>4</th>\n",
       "      <td>1</td>\n",
       "      <td>Medium</td>\n",
       "      <td>2</td>\n",
       "      <td>5</td>\n",
       "      <td>2</td>\n",
       "      <td>1</td>\n",
       "      <td>27.81</td>\n",
       "    </tr>\n",
       "  </tbody>\n",
       "</table>\n",
       "</div>"
      ],
      "text/plain": [
       "   MarketID MarketSize  LocationID  AgeOfStore  Promotion  week  \\\n",
       "0         1     Medium           1           4          3     1   \n",
       "1         1     Medium           1           4          3     2   \n",
       "2         1     Medium           1           4          3     3   \n",
       "3         1     Medium           1           4          3     4   \n",
       "4         1     Medium           2           5          2     1   \n",
       "\n",
       "   SalesInThousands  \n",
       "0             33.73  \n",
       "1             35.67  \n",
       "2             29.03  \n",
       "3             39.25  \n",
       "4             27.81  "
      ]
     },
     "execution_count": 3,
     "metadata": {},
     "output_type": "execute_result"
    }
   ],
   "source": [
    "df.head()"
   ]
  },
  {
   "cell_type": "code",
   "execution_count": 4,
   "metadata": {},
   "outputs": [
    {
     "data": {
      "text/plain": [
       "MarketID            0\n",
       "MarketSize          0\n",
       "LocationID          0\n",
       "AgeOfStore          0\n",
       "Promotion           0\n",
       "week                0\n",
       "SalesInThousands    0\n",
       "dtype: int64"
      ]
     },
     "execution_count": 4,
     "metadata": {},
     "output_type": "execute_result"
    }
   ],
   "source": [
    "# check if there are any missing values\n",
    "df.isnull().sum()"
   ]
  },
  {
   "cell_type": "code",
   "execution_count": 5,
   "metadata": {},
   "outputs": [
    {
     "data": {
      "text/html": [
       "<div>\n",
       "<style scoped>\n",
       "    .dataframe tbody tr th:only-of-type {\n",
       "        vertical-align: middle;\n",
       "    }\n",
       "\n",
       "    .dataframe tbody tr th {\n",
       "        vertical-align: top;\n",
       "    }\n",
       "\n",
       "    .dataframe thead th {\n",
       "        text-align: right;\n",
       "    }\n",
       "</style>\n",
       "<table border=\"1\" class=\"dataframe\">\n",
       "  <thead>\n",
       "    <tr style=\"text-align: right;\">\n",
       "      <th></th>\n",
       "      <th>MarketID</th>\n",
       "      <th>LocationID</th>\n",
       "      <th>AgeOfStore</th>\n",
       "      <th>Promotion</th>\n",
       "      <th>week</th>\n",
       "      <th>SalesInThousands</th>\n",
       "    </tr>\n",
       "  </thead>\n",
       "  <tbody>\n",
       "    <tr>\n",
       "      <th>count</th>\n",
       "      <td>548.000000</td>\n",
       "      <td>548.000000</td>\n",
       "      <td>548.000000</td>\n",
       "      <td>548.000000</td>\n",
       "      <td>548.000000</td>\n",
       "      <td>548.000000</td>\n",
       "    </tr>\n",
       "    <tr>\n",
       "      <th>mean</th>\n",
       "      <td>5.715328</td>\n",
       "      <td>479.656934</td>\n",
       "      <td>8.503650</td>\n",
       "      <td>2.029197</td>\n",
       "      <td>2.500000</td>\n",
       "      <td>53.466204</td>\n",
       "    </tr>\n",
       "    <tr>\n",
       "      <th>std</th>\n",
       "      <td>2.877001</td>\n",
       "      <td>287.973679</td>\n",
       "      <td>6.638345</td>\n",
       "      <td>0.810729</td>\n",
       "      <td>1.119055</td>\n",
       "      <td>16.755216</td>\n",
       "    </tr>\n",
       "    <tr>\n",
       "      <th>min</th>\n",
       "      <td>1.000000</td>\n",
       "      <td>1.000000</td>\n",
       "      <td>1.000000</td>\n",
       "      <td>1.000000</td>\n",
       "      <td>1.000000</td>\n",
       "      <td>17.340000</td>\n",
       "    </tr>\n",
       "    <tr>\n",
       "      <th>25%</th>\n",
       "      <td>3.000000</td>\n",
       "      <td>216.000000</td>\n",
       "      <td>4.000000</td>\n",
       "      <td>1.000000</td>\n",
       "      <td>1.750000</td>\n",
       "      <td>42.545000</td>\n",
       "    </tr>\n",
       "    <tr>\n",
       "      <th>50%</th>\n",
       "      <td>6.000000</td>\n",
       "      <td>504.000000</td>\n",
       "      <td>7.000000</td>\n",
       "      <td>2.000000</td>\n",
       "      <td>2.500000</td>\n",
       "      <td>50.200000</td>\n",
       "    </tr>\n",
       "    <tr>\n",
       "      <th>75%</th>\n",
       "      <td>8.000000</td>\n",
       "      <td>708.000000</td>\n",
       "      <td>12.000000</td>\n",
       "      <td>3.000000</td>\n",
       "      <td>3.250000</td>\n",
       "      <td>60.477500</td>\n",
       "    </tr>\n",
       "    <tr>\n",
       "      <th>max</th>\n",
       "      <td>10.000000</td>\n",
       "      <td>920.000000</td>\n",
       "      <td>28.000000</td>\n",
       "      <td>3.000000</td>\n",
       "      <td>4.000000</td>\n",
       "      <td>99.650000</td>\n",
       "    </tr>\n",
       "  </tbody>\n",
       "</table>\n",
       "</div>"
      ],
      "text/plain": [
       "         MarketID  LocationID  AgeOfStore   Promotion        week  \\\n",
       "count  548.000000  548.000000  548.000000  548.000000  548.000000   \n",
       "mean     5.715328  479.656934    8.503650    2.029197    2.500000   \n",
       "std      2.877001  287.973679    6.638345    0.810729    1.119055   \n",
       "min      1.000000    1.000000    1.000000    1.000000    1.000000   \n",
       "25%      3.000000  216.000000    4.000000    1.000000    1.750000   \n",
       "50%      6.000000  504.000000    7.000000    2.000000    2.500000   \n",
       "75%      8.000000  708.000000   12.000000    3.000000    3.250000   \n",
       "max     10.000000  920.000000   28.000000    3.000000    4.000000   \n",
       "\n",
       "       SalesInThousands  \n",
       "count        548.000000  \n",
       "mean          53.466204  \n",
       "std           16.755216  \n",
       "min           17.340000  \n",
       "25%           42.545000  \n",
       "50%           50.200000  \n",
       "75%           60.477500  \n",
       "max           99.650000  "
      ]
     },
     "execution_count": 5,
     "metadata": {},
     "output_type": "execute_result"
    }
   ],
   "source": [
    "df.describe()"
   ]
  },
  {
   "cell_type": "code",
   "execution_count": 6,
   "metadata": {},
   "outputs": [
    {
     "data": {
      "text/plain": [
       "10"
      ]
     },
     "execution_count": 6,
     "metadata": {},
     "output_type": "execute_result"
    }
   ],
   "source": [
    "# number of uniqe markets\n",
    "df.MarketID.nunique()"
   ]
  },
  {
   "cell_type": "code",
   "execution_count": 7,
   "metadata": {},
   "outputs": [
    {
     "data": {
      "text/plain": [
       "Text(0.5, 1.0, 'Box Plot')"
      ]
     },
     "execution_count": 7,
     "metadata": {},
     "output_type": "execute_result"
    },
    {
     "data": {
      "image/png": "[encoded data removed]",
      "text/plain": [
       "<Figure size 864x432 with 2 Axes>"
      ]
     },
     "metadata": {
      "needs_background": "light"
     },
     "output_type": "display_data"
    }
   ],
   "source": [
    "fig,ax = plt.subplots(1,2,figsize=(12,6))\n",
    "\n",
    "(df\n",
    "['SalesInThousands']\n",
    ".plot.hist(ax=ax[0],bins=20)\n",
    ")\n",
    "\n",
    "ax[0].set_title(\"Histogram\")\n",
    "\n",
    "(df\n",
    "['SalesInThousands']\n",
    ".plot.box(ax=ax[1])\n",
    ")\n",
    "\n",
    "ax[1].set_title(\"Box Plot\")"
   ]
  },
  {
   "cell_type": "code",
   "execution_count": 8,
   "metadata": {},
   "outputs": [
    {
     "data": {
      "text/plain": [
       "Text(0.5, 1.0, 'Marke Size Counts')"
      ]
     },
     "execution_count": 8,
     "metadata": {},
     "output_type": "execute_result"
    },
    {
     "data": {
      "image/png": "[encoded data removed]",
      "text/plain": [
       "<Figure size 432x288 with 1 Axes>"
      ]
     },
     "metadata": {
      "needs_background": "light"
     },
     "output_type": "display_data"
    }
   ],
   "source": [
    "ax = (df\n",
    "['MarketSize']\n",
    ".value_counts()\n",
    ".plot.bar()\n",
    ")\n",
    "\n",
    "ax.set_title(\"Marke Size Counts\")"
   ]
  },
  {
   "cell_type": "code",
   "execution_count": 44,
   "metadata": {},
   "outputs": [
    {
     "data": {
      "image/png": "[encoded data removed]",
      "text/plain": [
       "<Figure size 864x432 with 2 Axes>"
      ]
     },
     "metadata": {
      "needs_background": "light"
     },
     "output_type": "display_data"
    }
   ],
   "source": [
    "# categorize the age column\n",
    "df['AgeCategory'] = pd.cut(df.AgeOfStore,[0,5,10,15,20,100],labels=['1-5','6-10','11-15','16-20','20+'])\n",
    "\n",
    "# visaulize the age categorthe sales by age category\n",
    "fig,ax = plt.subplots(1,2,figsize=(12,6))\n",
    "\n",
    "(df\n",
    "['AgeCategory']\n",
    ".value_counts()\n",
    ".plot.barh(ax=ax[0])\n",
    ")\n",
    "\n",
    "ax[0].set_title(\"Store Counts by Age\")\n",
    "ax[0].set_xlabel(\"Store Count\")\n",
    "ax[0].set_ylabel(\"Store Age\")\n",
    "\n",
    "sns.boxplot(ax=ax[1],data=df,x=\"AgeCategory\",y=\"SalesInThousands\")\n",
    "\n",
    "_ = ax[1].set_title(\"Sales Distribution by Store Age\")"
   ]
  },
  {
   "cell_type": "code",
   "execution_count": 45,
   "metadata": {},
   "outputs": [
    {
     "data": {
      "text/plain": [
       "<AxesSubplot:xlabel='MarketSize'>"
      ]
     },
     "execution_count": 45,
     "metadata": {},
     "output_type": "execute_result"
    },
    {
     "data": {
      "image/png": "[encoded data removed]",
      "text/plain": [
       "<Figure size 432x288 with 1 Axes>"
      ]
     },
     "metadata": {
      "needs_background": "light"
     },
     "output_type": "display_data"
    }
   ],
   "source": [
    "# store age and market size\n",
    "(df\n",
    ".groupby(['MarketSize','AgeCategory'])\n",
    ".MarketID\n",
    ".count()\n",
    ".unstack()\n",
    ".plot.bar()\n",
    ")"
   ]
  },
  {
   "cell_type": "code",
   "execution_count": 9,
   "metadata": {},
   "outputs": [
    {
     "data": {
      "text/plain": [
       "Text(0.5, 1.0, 'Sales Distribuiton by Market Size')"
      ]
     },
     "execution_count": 9,
     "metadata": {},
     "output_type": "execute_result"
    },
    {
     "data": {
      "image/png": "[encoded data removed]",
      "text/plain": [
       "<Figure size 864x432 with 2 Axes>"
      ]
     },
     "metadata": {
      "needs_background": "light"
     },
     "output_type": "display_data"
    }
   ],
   "source": [
    "fig, ax = plt.subplots(1,2,figsize=(12,6))\n",
    "\n",
    "sns.boxplot(data=df,x=\"Promotion\",y=\"SalesInThousands\",ax=ax[0])\n",
    "ax[0].set_title(\"Sales Distribution by Promotion\")\n",
    "\n",
    "sns.boxplot(data=df,x=\"MarketSize\",y=\"SalesInThousands\",ax=ax[1])\n",
    "ax[1].set_title(\"Sales Distribuiton by Market Size\")"
   ]
  },
  {
   "cell_type": "markdown",
   "metadata": {},
   "source": [
    "It looks like Promotion 1 and Promotion 3 has done better job compared to Promotion 2 in terms of sales values, but the important question is that: <b> Is this difference statistically significant or cause of random chance? </b>"
   ]
  },
  {
   "cell_type": "markdown",
   "metadata": {},
   "source": [
    "Large market size makes more sales. We should investigate if the campign is biased. For example, if Promotion 3 is more offered in large market sizes compared the other promotions, this could led to biased campaign. Below table shows that campaign is fair."
   ]
  },
  {
   "cell_type": "code",
   "execution_count": 10,
   "metadata": {},
   "outputs": [
    {
     "data": {
      "text/html": [
       "<div>\n",
       "<style scoped>\n",
       "    .dataframe tbody tr th:only-of-type {\n",
       "        vertical-align: middle;\n",
       "    }\n",
       "\n",
       "    .dataframe tbody tr th {\n",
       "        vertical-align: top;\n",
       "    }\n",
       "\n",
       "    .dataframe thead tr th {\n",
       "        text-align: left;\n",
       "    }\n",
       "\n",
       "    .dataframe thead tr:last-of-type th {\n",
       "        text-align: right;\n",
       "    }\n",
       "</style>\n",
       "<table border=\"1\" class=\"dataframe\">\n",
       "  <thead>\n",
       "    <tr>\n",
       "      <th></th>\n",
       "      <th colspan=\"3\" halign=\"left\">PromotionCount</th>\n",
       "      <th>Total</th>\n",
       "    </tr>\n",
       "    <tr>\n",
       "      <th>MarketSize</th>\n",
       "      <th>Large</th>\n",
       "      <th>Medium</th>\n",
       "      <th>Small</th>\n",
       "      <th></th>\n",
       "    </tr>\n",
       "    <tr>\n",
       "      <th>Promotion</th>\n",
       "      <th></th>\n",
       "      <th></th>\n",
       "      <th></th>\n",
       "      <th></th>\n",
       "    </tr>\n",
       "  </thead>\n",
       "  <tbody>\n",
       "    <tr>\n",
       "      <th>1</th>\n",
       "      <td>56</td>\n",
       "      <td>96</td>\n",
       "      <td>20</td>\n",
       "      <td>172</td>\n",
       "    </tr>\n",
       "    <tr>\n",
       "      <th>2</th>\n",
       "      <td>64</td>\n",
       "      <td>108</td>\n",
       "      <td>16</td>\n",
       "      <td>188</td>\n",
       "    </tr>\n",
       "    <tr>\n",
       "      <th>3</th>\n",
       "      <td>48</td>\n",
       "      <td>116</td>\n",
       "      <td>24</td>\n",
       "      <td>188</td>\n",
       "    </tr>\n",
       "  </tbody>\n",
       "</table>\n",
       "</div>"
      ],
      "text/plain": [
       "           PromotionCount              Total\n",
       "MarketSize          Large Medium Small      \n",
       "Promotion                                   \n",
       "1                      56     96    20   172\n",
       "2                      64    108    16   188\n",
       "3                      48    116    24   188"
      ]
     },
     "execution_count": 10,
     "metadata": {},
     "output_type": "execute_result"
    }
   ],
   "source": [
    "(df\n",
    ".groupby(['Promotion','MarketSize'])\n",
    ".aggregate(PromotionCount=('MarketID','count'))\n",
    ".unstack()\n",
    ".pipe(lambda df_ : df_.assign(Total=df_.sum(axis=1)))\n",
    "#.plot.bar()\n",
    ")"
   ]
  },
  {
   "cell_type": "markdown",
   "metadata": {},
   "source": [
    "Also we can visaulize the below table to see more clearly."
   ]
  },
  {
   "cell_type": "code",
   "execution_count": 11,
   "metadata": {},
   "outputs": [
    {
     "data": {
      "text/plain": [
       "<matplotlib.legend.Legend at 0x1f37000b370>"
      ]
     },
     "execution_count": 11,
     "metadata": {},
     "output_type": "execute_result"
    },
    {
     "data": {
      "image/png": "[encoded data removed]",
      "text/plain": [
       "<Figure size 432x288 with 1 Axes>"
      ]
     },
     "metadata": {
      "needs_background": "light"
     },
     "output_type": "display_data"
    }
   ],
   "source": [
    "(df\n",
    ".groupby(['Promotion','MarketSize'])\n",
    "['MarketID']\n",
    ".count()\n",
    ".unstack()\n",
    ".plot.bar(stacked=True)\n",
    ".legend(bbox_to_anchor=(1,1))\n",
    ")"
   ]
  },
  {
   "cell_type": "code",
   "execution_count": 47,
   "metadata": {},
   "outputs": [
    {
     "data": {
      "image/png": "[encoded data removed]",
      "text/plain": [
       "<Figure size 432x288 with 1 Axes>"
      ]
     },
     "metadata": {
      "needs_background": "light"
     },
     "output_type": "display_data"
    }
   ],
   "source": [
    "mean_1,mean_2,mean_3 = df.groupby(\"Promotion\").SalesInThousands.mean()\n",
    "\n",
    "ax = sns.kdeplot(data=df,x=\"SalesInThousands\",hue=\"Promotion\",palette=['red','blue','green'])\n",
    "ax.axvline(mean_1, color='red', linestyle='--', label=\"mean1\")\n",
    "ax.axvline(mean_2, color='blue', linestyle='--')\n",
    "ax.axvline(mean_3, color='green', linestyle='--')\n",
    "\n",
    "_ = ax.set_title(\"KDE of Promotions\")"
   ]
  },
  {
   "cell_type": "code",
   "execution_count": 53,
   "metadata": {},
   "outputs": [
    {
     "data": {
      "text/plain": [
       "<matplotlib.legend.Legend at 0x21f36eb9340>"
      ]
     },
     "execution_count": 53,
     "metadata": {},
     "output_type": "execute_result"
    },
    {
     "data": {
      "image/png": "[encoded data removed]",
      "text/plain": [
       "<Figure size 432x288 with 1 Axes>"
      ]
     },
     "metadata": {
      "needs_background": "light"
     },
     "output_type": "display_data"
    }
   ],
   "source": [
    "ax = sns.boxplot(data=df,x=\"Promotion\",y=\"SalesInThousands\",hue=\"week\")\n",
    "ax.legend(bbox_to_anchor=(1,1),title=\"week\")"
   ]
  },
  {
   "cell_type": "markdown",
   "metadata": {},
   "source": [
    "There is not much differences in sales weekly basis. It looks like for all the 3 promotion, sales are steady in weekly basis."
   ]
  },
  {
   "cell_type": "markdown",
   "metadata": {},
   "source": [
    "<h2> Hypothesis Testing </h2>"
   ]
  },
  {
   "cell_type": "code",
   "execution_count": 102,
   "metadata": {},
   "outputs": [],
   "source": [
    "promotion_1 = df.query(\"Promotion == 1\").SalesInThousands\n",
    "promotion_2 = df.query(\"Promotion == 2\").SalesInThousands\n",
    "promotion_3 = df.query(\"Promotion == 3\").SalesInThousands"
   ]
  },
  {
   "cell_type": "markdown",
   "metadata": {},
   "source": [
    "Test the distribution of the data if it is normal or not. We can test it with by visualizing <b>qq plots</b> or applying <b>Shaphiro Wilks</b> test. Based on the normality of the data, we have to use different kind of distribution to test out hypothesis.\n",
    "\n",
    "QQ plot shows that our data is not normally distributed. If data point scattered close enough to the diagonal line, we conclude that data is normally distributed."
   ]
  },
  {
   "cell_type": "code",
   "execution_count": 106,
   "metadata": {},
   "outputs": [
    {
     "data": {
      "text/plain": [
       "Text(0.5, 1.0, 'QQ Plot for Promotion 3')"
      ]
     },
     "execution_count": 106,
     "metadata": {},
     "output_type": "execute_result"
    },
    {
     "data": {
      "image/png": "[encoded data removed]",
      "text/plain": [
       "<Figure size 864x432 with 3 Axes>"
      ]
     },
     "metadata": {
      "needs_background": "light"
     },
     "output_type": "display_data"
    }
   ],
   "source": [
    "fig, ax = plt.subplots(1,3,figsize=(12,6))\n",
    "\n",
    "_ = stats.probplot(promotion_1, plot=ax[0])\n",
    "ax[0].set_title(\"QQ Plot for Promotion 1\")\n",
    "\n",
    "_ = stats.probplot(promotion_2, plot=ax[1])\n",
    "ax[0].set_title(\"QQ Plot for Promotion 2\")\n",
    "\n",
    "_ = stats.probplot(promotion_3, plot=ax[2])\n",
    "ax[0].set_title(\"QQ Plot for Promotion 3\")"
   ]
  },
  {
   "cell_type": "markdown",
   "metadata": {},
   "source": [
    "We can strengthen our conclusion by applying Shapiro test.\n",
    "\n",
    "<b> Shaphiro Wilks Test: </b> Shapiro method conducts the following test:\n",
    "- Null Hypothesis: Data is normally distributed.\n",
    "- Alternative Hypothesis: Data is not normally distributed.\n",
    "\n",
    "Based on the returned p-value, we reject the null hypothesis or not. If p-value smaller than 0.05(alpha value), we reject the null hypothesis and conclude that distribution is not normal."
   ]
  },
  {
   "cell_type": "code",
   "execution_count": 108,
   "metadata": {},
   "outputs": [
    {
     "data": {
      "text/plain": [
       "(1.9773297665892642e-08, 5.456262108793908e-09, 1.499518376135711e-08)"
      ]
     },
     "execution_count": 108,
     "metadata": {},
     "output_type": "execute_result"
    }
   ],
   "source": [
    "_, pvalue_1 = stats.shapiro(promotion_1)\n",
    "_, pvalue_2 = stats.shapiro(promotion_2)\n",
    "_, pvalue_3 = stats.shapiro(promotion_3)\n",
    "\n",
    "pvalue_1,pvalue_2,pvalue_3"
   ]
  },
  {
   "cell_type": "markdown",
   "metadata": {},
   "source": [
    "Each p-value are much smaller than 0.05. Therefore, Shapiro Wilks Test indicated that data is not normally distributed."
   ]
  },
  {
   "cell_type": "markdown",
   "metadata": {},
   "source": [
    "Since data distribution is not normal, we have to use non-parametric test. One option could be using Mann-Whitney U test, but we have more than 2 test group so that we have to apply it pairwise(promotion1-promotion2,promotion1-promotion3,promotion2-promotion3). This is a little bit problematic because with each test, the chances are higher to get Type 1 Error(false positive). Since we have 3 test to apply, with alpha values 0.05 the chance of getting Type 1 Error equals to 1 - 0.95<sup>3</sup> = 0.143. Simply with each question, we are increasing the chance of being fooled by chance.\n",
    "\n",
    "One solution to this promblem is that dividing the alpha value with the number of comparison. In our case this is equal to 0.05/3 = 0.0167. The other solution could be using Kruskal-Wallis H-test where you can test 2 or more distributions at the same. It is the non-parametic type of the ANOVA test. It tests if the medians of the distributions are the same or not, but in case the null hypothesis rejected, it can not say which group differs.\n",
    "\n",
    "I want to try out the first solution, dividing the alpha value with the number of comparisons."
   ]
  },
  {
   "cell_type": "code",
   "execution_count": 115,
   "metadata": {},
   "outputs": [
    {
     "data": {
      "text/plain": [
       "0.016666666666666666"
      ]
     },
     "execution_count": 115,
     "metadata": {},
     "output_type": "execute_result"
    }
   ],
   "source": [
    "alpha = 0.05 / 3\n",
    "alpha"
   ]
  },
  {
   "cell_type": "code",
   "execution_count": 121,
   "metadata": {},
   "outputs": [],
   "source": [
    "def test_hypothesis(dist1,dist2,nullh,alternativeh,alpha=0.05):\n",
    "    \"\"\"\n",
    "    This function conducts hypothesis testing with the given null and alternative hypothesis by using Mann-Whitney U test.\n",
    "    \"\"\"\n",
    "\n",
    "    print(f\"NULL HYPOTHESIS: {nullh}\")\n",
    "    print(f\"ALTERNATIVE HYPOTHESIS: {alternativeh}\\n\")\n",
    "\n",
    "    _, pvalue = stats.mannwhitneyu(dist1,dist2)\n",
    "\n",
    "    if pvalue > alpha:\n",
    "        print(f\"Null Hypothesis can not be rejected with the pvalue of {pvalue}.\")\n",
    "    else:\n",
    "        print(f\"Null Hypothesis is rejected in favor of Alternative Hypothesis with the pvalue of {pvalue}.\")"
   ]
  },
  {
   "cell_type": "code",
   "execution_count": 122,
   "metadata": {},
   "outputs": [
    {
     "name": "stdout",
     "output_type": "stream",
     "text": [
      "NULL HYPOTHESIS: Promotion 1 and Promotion 2 is not different.\n",
      "ALTERNATIVE HYPOTHESIS: Promotion 1 and Promotion 2 is different.\n",
      "\n",
      "Null Hypothesis is rejected in favor of Alternative Hypothesis with the pvalue of 5.845935246838518e-12.\n"
     ]
    }
   ],
   "source": [
    "null_hypo1 = \"Promotion 1 and Promotion 2 is not different.\"\n",
    "alt_hyp1 = \"Promotion 1 and Promotion 2 is different.\"\n",
    "\n",
    "test_hypothesis(promotion_1,promotion_2,null_hypo1,alt_hyp1,alpha)"
   ]
  },
  {
   "cell_type": "code",
   "execution_count": 123,
   "metadata": {},
   "outputs": [
    {
     "name": "stdout",
     "output_type": "stream",
     "text": [
      "NULL HYPOTHESIS: Promotion 3 and Promotion 2 is not different.\n",
      "ALTERNATIVE HYPOTHESIS: Promotion 3 and Promotion 2 is different.\n",
      "\n",
      "Null Hypothesis is rejected in favor of Alternative Hypothesis with the pvalue of 1.1970084441651803e-07.\n"
     ]
    }
   ],
   "source": [
    "null_hypo2 = \"Promotion 3 and Promotion 2 is not different.\"\n",
    "alt_hyp2 = \"Promotion 3 and Promotion 2 is different.\"\n",
    "\n",
    "test_hypothesis(promotion_3,promotion_2,null_hypo2,alt_hyp2,alpha)"
   ]
  },
  {
   "cell_type": "code",
   "execution_count": 124,
   "metadata": {},
   "outputs": [
    {
     "name": "stdout",
     "output_type": "stream",
     "text": [
      "NULL HYPOTHESIS: Promotion 3 and Promotion 2 is not different.\n",
      "ALTERNATIVE HYPOTHESIS: Promotion 3 and Promotion 2 is different.\n",
      "\n",
      "Null Hypothesis can not be rejected with the pvalue of 0.035084095693231204.\n"
     ]
    }
   ],
   "source": [
    "null_hypo3 = \"Promotion 1 and Promotion 3 is not different.\"\n",
    "alt_hyp3 = \"Promotion 1 and Promotion 3 is different.\"\n",
    "\n",
    "test_hypothesis(promotion_1,promotion_3,null_hypo2,alt_hyp2,alpha)"
   ]
  },
  {
   "cell_type": "markdown",
   "metadata": {},
   "source": [
    "<h2> Conclusion </h2>"
   ]
  },
  {
   "cell_type": "markdown",
   "metadata": {},
   "source": [
    "<b> Based on the conducted experiments: </b>\n",
    "- It has been satistically proven that Promotion 1 and Promotion 3 has done better job compared to Promotion 2 in the campaign.\n",
    "- Although there is a small difference between Promotion 1 and Promotion 3, it is not statistically significant.\n",
    "- Company can use either Promoiton 1 or Promotion 3.\n",
    "- Also, company may consider to apply small changes in Promotion 1 or Promotion 3 and conduct more tests between the two."
   ]
  },
  {
   "cell_type": "markdown",
   "metadata": {},
   "source": []
  }
 ],
 "metadata": {
  "interpreter": {
   "hash": "b3ba2566441a7c06988d0923437866b63cedc61552a5af99d1f4fb67d367b25f"
  },
  "kernelspec": {
   "display_name": "Python 3.9.7 ('base')",
   "language": "python",
   "name": "python3"
  },
  "language_info": {
   "codemirror_mode": {
    "name": "ipython",
    "version": 3
   },
   "file_extension": ".py",
   "mimetype": "text/x-python",
   "name": "python",
   "nbconvert_exporter": "python",
   "pygments_lexer": "ipython3",
   "version": "3.9.7"
  },
  "orig_nbformat": 4
 },
 "nbformat": 4,
 "nbformat_minor": 2
}
